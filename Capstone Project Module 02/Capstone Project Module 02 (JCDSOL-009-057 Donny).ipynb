# Latar Belakang

Perusahaan e-Commerce terbesar di Pakistan ingin meningkatkan profit dengan meningkatkan jumlah order telah dibuat oleh para user-nya. Tetapi, tidak semua order yang telah dibuat oleh user dapat selesai atau complete.
# Peryataan Masalah

Perusahaan ingin mengetahui **apa faktor yang mempengaruhi sehingga user dapat membatalkan order-nya**. Setelah mengetahui faktor yang mempengaruhi tersebut, perusahaan berharap dapat mengurangi tingkat pembatalan yang dilakukan oleh user agar jumlah order yang selesai atau complete dapat meningkat. Sehingga, profit yang didapat perusahaan juga meningkat.

Dengan pernyataan masalah di atas, maka kita diharapkan dapat menjawab pertanyaan berikut:
**Apa Faktor yang paling terpenting dalam mempengaruhi tindakan user dalam melakukan pembatalan order?**
# Data
Untuk menjawab pertanyaan di atas, kita akan menganalisa dataset yang sudah dibuat oleh perusahaan.

Pertama-tama, kita import terlebih dahulu module yang dibutuhkan untuk mengerjakan kasus diatas dengan python.
import pandas as pd
import numpy as np
import matplotlib.pyplot as plt
import seaborn as sns
import plotly.express as px
from scipy.stats import normaltest, chi2_contingency, mannwhitneyu, ttest_ind

import warnings
warnings.filterwarnings("ignore")
Dataset ini secara umum adalah kumpulan dari order yang dibuat oleh para user dalam site e-Commerce perushaan.
Terdapat 26 column secara total, dengan 5 column yang tidak terdapat data apapun. 5 column ini nantinya akan dihapus saja karena tidak dapat digunakan.
Berikut list column yang ada berserta penjelasan singkatnya: 
(ada beberapa variable/column yang tidak dapat dijelaskan karena minimnya domain knowledge)

1. item_id : Urutan order yang ada dalam e-Commerce perusahaan
2. status : Status terakhir dari order yang dibuat oleh user
3. created_at : Kapan order tersebut dibuat oleh user
4. sku : Nama barang yang diorder oleh user
5. price : Harga barang yang diorder oleh user
6. qty_ordered : Jumlah barang yang diorder oleh user
7. grand_total : price*qty_ordered
8. increment_id : ID order yang dibuat oleh user
9. category_name_1 : Kategori dari barang yang diorder oleh user
10. sales_commission_code : Kode link seperti referral oleh beberapa user
11. discount_amount : Diskon yang diberikan untuk order yang dibuat oleh user
12. payment_method : Metode pembayaran yang dipilih oleh user
13. Working Date : Kapan order tersebut dieksekusi dan dilanjutkan ke halaman pembayaran
14. BI Status : -
15. MV : -
16. Year : Tahun kapan order tersebut dibuat oleh user
17. Month : Bulan kapan order tersebut dibuat oleh user
18. Customer Since : Sejak kapan user bergabungan dengan e-Commerce perusahaan
19. M-Y : Gabunagan antar Month dan Year
20. FY : Tahun finansial perusahaan e-Commerce
21. Customer ID : ID unik untuk setiap user
 
Berikut 5 baris teratas dan terbawah dari dataset Pakistan Largest Ecommerce Dataset.
df = pd.read_csv('Pakistan Largest Ecommerce Dataset.csv')
display(df.head(),df.tail())
## Data Understanding and Cleaning
Sebelum melakukan analisis pada data, kita perlu memahami terlebih dahulu bentuk dari dataset. Tahap ini disebut dengan **data understanding**, dimana kita harus tahu anomali yang ada dalam dataset. Setelah itu kita harus melakukan beberapa tindakan yang diperlukan untuk mengatasi anomali-anomali tersebut, dan tahap ini disebut dengan **data cleaning**.

Pertama, mari kita lihat informasi dari dataset Pakistan Largest Ecommerce Dataset.
print(f'Jumlah baris dan kolom di dataset df adalah {df.shape}')
df.info()
display(df.describe(), df.describe(include='object'))
pd.set_option('display.max_colwidth', -1)
# data uni di tiap kolom
listItem = []
for col in df.columns :
    listItem.append( [col, df[col].nunique(), df[col].unique()])

tabel1Desc = pd.DataFrame(columns=['Column Name', 'Number of Unique', 'Unique Sample'],
                     data=listItem)
tabel1Desc
Notes:
1. Pada Tail, terdapat banyak row tidak memiliki data sama sekali
2. RangeIndex vs Non-null count = 1,048,575 vs 584,524, secara sekilas terdapat +- 460,000 missing value pada setiap column
3. Terdapat column yang tidak memiliki nama dan data sama sekali
# Missing Value

**1. Menangani Row dan Column yang hanya terdiri dari missing value**

Secara sekilas, kita dapat melihat bahwa terdapat banyak missing value. Ini dapat dilihat melalui RangeIndex (1,048,575) vs Non-null count (Modus : 584524).
Mari kita lihat seberapa banyak missing value dari masing masing column:
# Menampilkan umlah data dengan missing value dari masing masing column
df.isna().sum()
Setelah di-check, selain banyaknya missing value, kita juga menemukan column yang tidak memiliki data sama sekali.
Pertama kita akan menghilangkan column column tersebut:
df1 = df.drop(['Unnamed: 21','Unnamed: 22','Unnamed: 23','Unnamed: 24','Unnamed: 25'],axis=1)
df1.isna().sum()
Angka angka di atas menunjukan bahwa terdapat banyak missing value dari setiap column. Sebelumnya juga kita bisa melihat tail pada dataset,
terdapat row yang tidak memiliki data sama sekali atau row yang hanya terdiri dari missing value saja. Maka dari itu kita delete saja agar hanya
tersisa row yang memiliki data.
df2 = df1.dropna (axis=0, how='all')
df2.isna().sum()
Setelah mengatasi row dan column yang tidak memiliki data sama sekali, kita dapat melihat bahwa hanya beberapa column saja yang memiliki missing value.
Ada 2 cara untuk menangani *missing value*:
* pertama, menghapus baris/kolom yang berisi *missing value*. Cara ini tidak disarankan dalam kasus kita, karena jumlah missing value untuk column Sales_commission_code cukup tinggi (137,175).
* kedua, mengisi data yang hilang. Cara ini lebih disarankan. Ada beberapa metode yang bisa digunakan untuk mengisi missing value, cara yang paling baik adalah dengan mengisi data yang hilang dengan nilai sebenarnya, atau sedekat mungkin dengan nilai asli. Dalam kasus ini, kita akan mencoba mengisi *missing value* berdasarkan kolom lain yang secara domain knowledge atau secara statistik berkaitan dengan kolom yang memiliki *missing value*. Jika masih ada kolom yang tidak bisa diisi, barulah kita mengisi dengan angka *mean, median* atau *modus*. Menghapus data akan menjadi opsi terakhir.
display(df2.head(),df2.tail())
Dari data di atas, kita hanya berfokus pada column column yang berkaitan dengan pernyataan permasalahan.

Berikut column yang akan kita analisis nantinya:
1. status : terdapat data complete order dan cancel order dimana kita nantinya akan menganalisis variable/column mana yang sangat mempengaruhi rate cancel order yang terjadi.
2. category_name_1 : variable pertama yang akan digunakan untuk menganilisis pengaruhnya terhadap cancel order, karena ada kemungkinan kategori tertentu memiliki tingkat cancel order yang tinggi.
3. sales_commission_code : variable kedua ini ada kemungkinan untuk mempengaruhi tingkat cancel order. Misal, tingkat cancel lebih tinggi jika transaksi yang terjadi tidak memiliki referral code.
4. discount_amount : variable selanjutnya ini akan digunakan dengan pertimbangan, jika ada discount maka user cenderung tidak membatalkan order yang dieksekusi.
5. payment_method : variable ini merupakan variable terakhir yang digunakan dengan pertimbangan bahwa metode pembayaran tertentu dapat mempengaruhi tingkat pembatalan transaksi.
**2. status**

status merupakan column yang penting karena terdapat data 'canceled' yang kita perlu kita analisis sesuai dengan pernyataan sebelumnya. Maka kita check dulu datanya apakah ada yang perlu diubah atau tidak.
display(df2['status'].value_counts())
Jika dilihat, terdapat value \N dimana value ini dapat kita katakan sebagai missing value. Pertama tama mari kita ubah dulu datanya menjadi NaN dan karena jumlahnya sedikit, kita dapat menhapusnya saja.
# Merubah value \N menjadi missing value
df2['status'] = df2['status'].replace('\\N',None)

df2.dropna(subset=['status'],inplace=True)

display(df2['status'].value_counts())
Setelah melihat data di atas, mari kita kategorikan transaksi yang berpotensi merugikan perusahaan dan mana yang berpotensi menguntungkan perusahaan.
Merugikan dapat kita asumsikan bahwa transaksi tersebut masih ada kemungkinan kalau transaksi tersebut batal.
Sebaliknya, menguntungkan kita asumsikan bahwa transaksi tersebut besar kemungkinannya untuk complete.

Merugikan :
1. canceled
2. order_refunded
3. refund
4. payment_review
5. pending
6. processing
7. holded
8. fraud
9. pending_paypal

Menguntungkan :
1. complete
2. received
3. cod
4. paid
5. closed
6. exchange

Untuk yang merugikan, kita akan ganti valuenya menjadi Loss

Untuk yang menguntungkan, kita akan ganti valuenya menjadi Profitable
df2.loc[(df2['status'].isin(['canceled','order_refunded','refund','payment_review','pending','processing','holded','fraud','pending_paypal'])),'status']='Loss'

df2.loc[(df2['status'].isin(['complete','received','cod','paid','closed','exchange'])),'status']='Profitable'

display(df2['status'].value_counts())
**3. category_name_1**

Sebelum itu, mari kita check dulu values yang ada pada category_name_1
display(df2['category_name_1'].value_counts())
Sama seperti kasus pada column column sebelumnya bahwa terdapat values \N. Kali ini kita dapat menyimpulkan bahwa item yang tidak memiliki category name bisa di masukan saja ke category name 'Others'.
df2['category_name_1'] = df2['category_name_1'].replace('\\N','Others')
display(df2['category_name_1'].value_counts())
df2.isna().sum()
Untuk sisa missing value-nya yang tinggal sedikit, kita memasukkanya ke 'Others' juga.
df2[['category_name_1']] = df2[['category_name_1']].fillna('Others')
df2.isna().sum()
Dengan begini, tidak ada lagi missing value dalam column **category_name_1**. Mari kita lanjutkan untuk menangani missing value di column yang lainnya.
**4. sales_commission_code**

Untuk sales comission code, kita dapat melihat dulu apa saja value yang terdapat dalam column ini seperti di bawah ini:
display(df2['sales_commission_code'].value_counts())
display(df2['sales_commission_code'].isna().sum())
display(df2['sales_commission_code'])
Berdasarkan hasil data untuk column sales_commission_code, kita dapat menyimpulkan beberapa hal sebagai berikut:
1.  Terdapat value \N, dimana ini merupakan value yang paling sering muncul. Kita juga dapat menganggap bahwa value ini merupakan value yang sama dengan NaN atau missing value.
    Alasan lain mengapa kita dapat menganggap \N merupakan missing value karena cukup tidak memungkinkan setengah dari total transaksi yang terjadi dalam e-commerce ini memakai kode referral. Secara persentase \N mendominasi +-57% dari total transaksi yang ada.
2.  Terdapat missing value sebanyak 137,175 row.

Dengan hasil ini kita dapat merubah column sales_commission_code menjadi boolean dimana isinya adalah:
1.  Jika ada commision code maka menjadi True
2.  Jika tidak ada commission code maka menjadi False, termasuk data \N juga akan menjadi False
# Merubah value \N menjadi missing value
df2['sales_commission_code'] = df2['sales_commission_code'].replace('\\N',None)

# Merubah value dalam column sales_commission_code menjadi boolean (True or False)
df2['sales_commission_code'] = pd.notna(df2['sales_commission_code'])

df2
display(df2['sales_commission_code'].value_counts())
df2.isna().sum()
Dengan begini, sales_comission_code tidak memiliki data missing value. Kita dapat melanjutkan untuk menangani anomali di column yang lainnya.
**5. discount_amount**

Pertama tama, mari kita lihat value apa saja yang terdapat dalam column discount_amount
display(df2['discount_amount'].value_counts())
Jika dilihat, terdapat data angka discount pada setiap transaksi. Kita dapat mengubah datanya menjadi tipe boolean dimana angka discount "0.00" adalah transaksi tanpa discount dan selain itu merupakan transaksi dengan discount.
df2.loc[df2['discount_amount'] == 0.00, 'discount_amount'] = "Not discounted"
df2.loc[df2['discount_amount'] != "Not discounted", 'discount_amount'] = "Discounted"

display(df2['discount_amount'].value_counts())
**6. payment_method**

Mari kita check terlebih dahulu values apa saja yang terdapat dalam column ini dan menentukan tindakan apa yang harus kita lakukan.
display(df2['payment_method'].value_counts())
Untuk variable ini, kita tidak perlu mengubah apapun karena tidak ada missing value satupun.
**7. Penghapusan sisa missing value**

Seperti yang dapat kita lihat, masih terdapat missing value di beberapa column. Namun, karena missing value-nya hanya sedikit dan semuanya kurang dari 1% maka kita dapat menghapusnya.
df2.dropna(subset=['sku','Customer Since','Customer ID'],inplace=True)
df2.isna().sum()
## Data yang sudah bersih
Kita sudah selesai membersihkan data kita, sekarang, mari kita lihat sekilas informasi dari data yang sudah kita bersihkan
listItem = []
for col in df2.columns :
    listItem.append([col, df2[col].dtype, df2[col].isna().sum(),
                    df2[col].nunique(), list(df2[col].drop_duplicates().sample(2).values)]);

dfDesc = pd.DataFrame(columns=['dataFeatures', 'dataType', 'null', 'unique', 'uniqueSample'],
                     data=listItem)
print(df2.shape)
dfDesc
Sebelum dibersihkan, kita memiliki 1,048,575 baris data, sekarang kita memiliki 584,474 baris. Sekitar 450,000 baris data yang kosong dihapus, dan sisa data kosong diisi dengan data yang dirasa relevan.
# Data Analysis
Kita telah menyelesaikan tahap data cleaning, dan selanjutnya kita akan melakukan data analysis.

Analisis akan dilakukan dengan membandingkan data status yang memiliki value "Loss" dimana data ini menunjukkan potensi transaksi dapat dibatalkan user dan value "Profitable" sebagai data yang menunjukkan potensi transaksi yang berhasil. Dari total data 584,474, terdapat yang dapat kita analisis dan dalam prosesnya kita akan membandingan dengan beberapa data lainnya seperti category_name_1, sales_commission_code, discount_amount, payment_method dan caranya lebih baik dilakukan berdasarkan ratio, terutama pada data bertipe kategorikal.
df2['status'].value_counts()
## Berdasarkan Kategori Barang: `category_name_1` vs `status`  

Pertama, mari kita lihat bagaimana pengaruh kategori barang terhadap jumlah pembatalan yang terjadi. Kita akan menganalisis kolom  `category_name_1` untuk mengetahui beberapa pertanyaan berikut.

* Kategori barang apa yang memiliki pembatalan tertinggi?
* Kategori mana yang memiliki transaksi terbanyak?
df_ct=pd.crosstab(df2['category_name_1'],df2['status'])
df_ct['Total']=df_ct.sum(axis=1)
df_ct.sort_values('Total',ascending=False)
df_ct.sort_values("Loss",ascending=False)
df_ct.sort_values("Loss",ascending=False).drop(columns='Total').plot(kind='bar',figsize=(8,5), 
title='Jumlah Transaksi Potensi Cancel Order dan Profitable Berdasarkan Kategori Barang')
plt.show()
ct=pd.crosstab(df2['category_name_1'],df2['status'],normalize='index').sort_index()
ct['total']=ct.sum(axis=1)
plt.figure(figsize=(36,12))
plt.bar(np.arange(df2['category_name_1'].nunique()),ct['total'])
plt.bar(np.arange(df2['category_name_1'].nunique()),ct["Loss"])
plt.xlabel('status')
plt.ylabel(f'Proportion category_name_1')
plt.legend(["Profitable","Loss"])
plt.xticks(np.arange(len(ct.index.tolist())),ct.index.tolist())
plt.title('category_name_1')
plt.show()
df_ct= pd.crosstab(df2['category_name_1'],df2['status'])
score, pval, dof,exp=chi2_contingency(df_ct)
if pval<=0.05:
    print('Tolak Ho')
else:
    print('Gagal menolak Ho')
Berdasarkan grafik yang ada di atas, kita dapat menjawab pertanyaan berikut:
* Kategori barang apa yang memiliki pembatalan tertinggi?
    **Kita dapat melihat bahwa pembatalan tertinggi terdapat pada Kategori Mobiles & Tablets**, kategori ini nantinya dapat dijadikan sebagai target utama perusahaan dalam mengurangi tingkat pembatalan transaksi.
* Kategori mana yang memiliki transaksi terbanyak?
    **Kategori yang memiliki transaksi terbanyak adalah Mobiles & Tablets**. Selain dengan transaksi terbanyak, kategori ini juga memiliki tingkat pembatalan transaksi terbanyak seperti yang dijelaskan pada pertanyaan pertama.

Uji statistik dengan chi2_contingency juga menunjukkan adanya pengaruh yang signifikan dari variable category_name_1 terhadap variable status.
## Berdasarkan Commission Code / Kode Referral : `sales_commission_code` vs `status`  

Sekarang kita akan mencoba menguji apakah ada pengaruh dari penggunaan kode referral / commission code terhadap tingkat pembatalan user pada transaksi.
ct=pd.crosstab(df2['sales_commission_code'],df2['status'],normalize='index').sort_index()
ct['total']=ct.sum(axis=1)
plt.figure(figsize=(12,4))
plt.bar(np.arange(df2['sales_commission_code'].nunique()),ct['total'])
plt.bar(np.arange(df2['sales_commission_code'].nunique()),ct["Loss"])
plt.xlabel('status')
plt.ylabel(f'Proportion sales_commission_code')
plt.legend(["Profitable","Loss"])
plt.xticks(np.arange(len(ct.index.tolist())),ct.index.tolist())
plt.title('sales_commission_code')
plt.show()
from statsmodels.stats.proportion import proportions_ztest
df_ct=pd.crosstab(df2['sales_commission_code'],df2['status'])

stats, pval=proportions_ztest(df_ct["Loss"],df_ct.sum(axis=1),alternative='smaller') 
if pval<=0.05:
    print('Tolak Ho')
else:
    print('Gagal menolak Ho')
Dari grafik dan uji statistik diatas kita dapat memahami bahwa tingkat pembatalan antara penggunaan referral code dan tidak hampir sama. Uji statistik juga menghasilkan tidak ada pengaruh signifikan dari penggunaan referral code ataupun tidak. Jadi perusahaan tidak perlu memperhatikan variable ini sebagai pertimbangan dalam bertindak untuk mengurangi tingkat pembatalan transaksi oleh user. 
## Berdasarkan Ada atau Tidaknya Discount : `discount_amount` vs `status`  

Samad dengan variable sales_commission_code, kita akan menguji apakah variable discount_amount memiliki pengaruh terhadap variable status.
ct=pd.crosstab(df2['discount_amount'],df2['status'],normalize='index').sort_index()
ct['total']=ct.sum(axis=1)
plt.figure(figsize=(12,4))
plt.bar(np.arange(df2['discount_amount'].nunique()),ct['total'])
plt.bar(np.arange(df2['discount_amount'].nunique()),ct["Loss"])
plt.xlabel('status')
plt.ylabel(f'Proportion category_name_1')
plt.legend(["Profitable","Loss"])
plt.xticks(np.arange(len(ct.index.tolist())),ct.index.tolist())
plt.title('discount_amount')
plt.show()
from statsmodels.stats.proportion import proportions_ztest
df_ct=pd.crosstab(df2['discount_amount'],df2['status'])

stats, pval=proportions_ztest(df_ct["Loss"],df_ct.sum(axis=1),alternative='smaller') 
if pval<=0.05:
    print('Tolak Ho')
else:
    print('Gagal menolak Ho')
Dari grafik dan uji statistik diatas kita dapat memahami bahwa tingkat pembatalan antara penggunaan referral code dan tidak hampir sama. Grafik ini hampir mirip dengan grafik pada uji sales_commission_code dimana Uji statistiknya juga menghasilkan bahwa tidak ada pengaruh signifikan dari adanya diskon pada transksi ataupun tidak. Jadi perusahaan tidak perlu memperhatikan variable ini sebagai pertimbangan dalam bertindak untuk mengurangi tingkat pembatalan transaksi oleh user. 
## Berdasarkan Metode Pembayaran Transaksi : `payment_method` vs `status`  

Pertama, mari kita lihat bagaimana pengaruh metode pembayaran terhadap jumlah pembatalan yang terjadi. Kita akan menganalisis kolom  `paymen_method` untuk mengetahui beberapa pertanyaan berikut.

* Metode pembayaran apa yang memiliki pembatalan tertinggi?
* Metode pembayaran mana yang memiliki transaksi terbanyak?
* Apakah terdapat pengaruh yang signifikan dari varibale payment_method terhadap variable status?
df_ct2=pd.crosstab(df2['payment_method'],df2['status'])
df_ct2['Total']=df_ct2.sum(axis=1)
df_ct2.sort_values('Total',ascending=False)
df_ct2.sort_values("Loss",ascending=False)
df_ct2.sort_values("Loss",ascending=False).drop(columns='Total').plot(kind='bar',figsize=(8,5), 
title='Jumlah Transaksi Potensi Cancel Order dan Profitable Berdasarkan Kategori Barang')
plt.show()
ct2=pd.crosstab(df2['payment_method'],df2['status'],normalize='index').sort_index()
ct2['total']=ct2.sum(axis=1)
plt.figure(figsize=(36,4))
plt.bar(np.arange(df2['payment_method'].nunique()),ct2['total'])
plt.bar(np.arange(df2['payment_method'].nunique()),ct2["Loss"])
plt.xlabel('status')
plt.ylabel(f'Proportion category_name_1')
plt.legend(["Profitable","Loss"])
plt.xticks(np.arange(len(ct2.index.tolist())),ct2.index.tolist())
plt.title('payment_method')
plt.show()
df_ct= pd.crosstab(df2['payment_method'],df2['status'])
score, pval, dof,exp=chi2_contingency(df_ct)
if pval<=0.05:
    print('Tolak Ho')
else:
    print('Gagal menolak Ho')
Berdasarkan grafik-grafik yang ada di atas, kita dapat menjawab pertanyaan berikut:
* Metode pembayaran apa yang memiliki pembatalan tertinggi?
    **Kita dapat melihat bahwa pembatalan tertinggi terdapat pada metode COD, Payaxis, Easypay**, metode metode ini nantinya dapat dijadikan sebagai target utama perusahaan dalam mengurangi tingkat pembatalan transaksi.
* Metode pembayaran mana yang memiliki transaksi terbanyak?
    **Kategori yang memiliki transaksi terbanyak adalah COD, Payaxis, Easypay**. Selain dengan transaksi terbanyak, metode-metode ini juga memiliki tingkat pembatalan transaksi terbanyak seperti yang dijelaskan pada pertanyaan pertama.
* Apakah terdapat pengaruh yang signifikan dari variable payment_method terhadap variable status?
    Uji statistik dengan chi2_contingency juga menunjukkan adanya pengaruh yang signifikan dari variable payment_method terhadap variable status.

# Kesimpulan

Dari analisis yang telah dilakukan, kita bisa membuat kesimpulan berikut tetang tingkat pembatalan yang dilakukan oleh user:
* Dari 584,474 data yang kita miliki, ada 268,985 (46%) data transaksi yang memiliki potensi pembatalan oleh user.
* Berdasarkan kategori barang, transaksi batal paling banyak terjadi pada kategori Mobiles & Tablets
* Berdasarkan metode pembayaran, transaksi batal paling banyak terjadi pada metode COD, Payaxis, dan Easypay.
* Penggunaan referral code / commission code tidak memiliki pengaruh yang signifikan dalam pembatalan transaksi oleh user.
* Penggunaan discount juga tidak memiliki pengaruh yang signifikan dalam pembatalan transaksi oleh user.
# Rekomendasi

1. Perusahaan dapat menetapkan target berdasarkan kategori barang terlebih dahulu, dengan kategori Mobiles & Tablets sebagai target utama karena kategori ini memiliki jumlah transaksi terbanyak dan juga tingkat pembatalan oleh user yang terbanyak.

2. Lalu jika diperiksa berdasarkan metode pembayaran, pembatalan paling banyak terjadi pada metode COD, Payaxis, dan Easypay. Berdasarkan domain knowledge, pada case COD biasanya transaksi dapat batal karena jarak yang terlalu jauh atau barang yang diterima oleh user tidak sesuai sehingga user membatalkan transaksi tersebut dan lanjut mengajukan complain.
Hal ini bisa diatasi dengan meningkatkan akurasi gambar dengan barang actualnya, atau meningkatkan kualitas tiap penjual barang dalam memasarkan dagangannya.

3. Untuk meningkatkan tingkat akurasi gambar barang dengan actualnya, dapat diterapkan metode review oleh user yang sudah membeli sebuah barang. Ini dapat menjadi referensi bagi user lainnya saat membeli sebuah barang. Untuk meningkatkan daya review semua user, perusahaan juga dapat membuat sebuah sistem point atau badges. Misal semakin banyak user mereview, maka mereka dapat mendapatkan point dimana point ini dapat digunakan user untuk berbagai manfaat pada platform e-commerce perusahaan.

4. Sedangkan untuk metode Payaxis dan Easypay, dimana ini merupakan metode pembayaran secara online, kita dapat berasumsi bahwa pembatalan bisa jadi disebabkan oleh sering terjadinya gangguan pada Payaxis dan Easypay itu sendiri sehingga user terpaksa harus membatalkan transaksi. Untuk lebih jauhnya, perusahaan dapat menulusuri lebih dalam performa dari kedua metode pembayaran oleh Payaxis dan Easypay dan juga meningkatkan pelayanan dengan menambahkan fitur feedback untuk metode pembayaran online sehingga perusahaan dapat mengambil langkah lebih akurat kedepannya untuk meningkatkan rating complete order.
 
5. Perusahaan juga tidak perlu berfokus pada memberikan discount atau marketing dengan penggunaan referral code, karena hal ini tidak terlalu mempengaruhi keputusan user dalam menyelesaikan ataupun membatalkan sebuah transaksi.
'''df2.to_excel('Cleaned Pakistan Largest Ecommerce Dataset.xlsx')'''
'''https://public.tableau.com/app/profile/donny.septian/viz/CapstoneProjectModule02JCDSOL-009-057Donny/Story1?publish=yes'''
